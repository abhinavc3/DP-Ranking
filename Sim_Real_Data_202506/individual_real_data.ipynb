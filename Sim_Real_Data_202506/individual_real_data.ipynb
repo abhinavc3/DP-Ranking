{
 "cells": [
  {
   "cell_type": "code",
   "execution_count": 1,
   "id": "50ade0bd",
   "metadata": {},
   "outputs": [
    {
     "name": "stderr",
     "output_type": "stream",
     "text": [
      "/Users/wangyc/Library/Python/3.9/lib/python/site-packages/rpy2/rinterface/__init__.py:1211: UserWarning: Environment variable \"PWD\" redefined by R and overriding existing variable. Current: \"/\", R: \"/Users/wangyc/Desktop/cvx\"\n",
      "  warnings.warn(\n",
      "/Users/wangyc/Library/Python/3.9/lib/python/site-packages/rpy2/rinterface/__init__.py:1211: UserWarning: Environment variable \"XPC_SERVICE_NAME\" redefined by R and overriding existing variable. Current: \"application.com.microsoft.VSCode.81788270.81788276\", R: \"0\"\n",
      "  warnings.warn(\n",
      "/Users/wangyc/Library/Python/3.9/lib/python/site-packages/rpy2/rinterface/__init__.py:1211: UserWarning: Environment variable \"R_SESSION_TMPDIR\" redefined by R and overriding existing variable. Current: \"/var/folders/j7/dz3p77gx07z9hs9dsxyp6kc40000gn/T//RtmpV84P62\", R: \"/var/folders/j7/dz3p77gx07z9hs9dsxyp6kc40000gn/T//RtmpttojeT\"\n",
      "  warnings.warn(\n"
     ]
    }
   ],
   "source": [
    "import cvxpy as cp\n",
    "import numpy as np\n",
    "from scipy.special import expit\n",
    "import matplotlib.pyplot as plt\n",
    "import pandas as pd\n",
    "import seaborn as sns\n",
    "from cycler import cycler\n",
    "from rpy2.robjects import r, default_converter\n",
    "from rpy2.robjects.conversion import localconverter, rpy2py\n",
    "import rpy2.robjects.pandas2ri as pandas2ri\n",
    "from pairwise_comparison import *"
   ]
  },
  {
   "cell_type": "code",
   "execution_count": 2,
   "id": "7b921435",
   "metadata": {},
   "outputs": [],
   "source": [
    "%load_ext rpy2.ipython"
   ]
  },
  {
   "cell_type": "markdown",
   "id": "ad190bb3",
   "metadata": {},
   "source": [
    "## 1. CEMS"
   ]
  },
  {
   "cell_type": "code",
   "execution_count": 3,
   "id": "5003fb86",
   "metadata": {},
   "outputs": [],
   "source": [
    "%%R -o CEMS\n",
    "library(BradleyTerry2)\n",
    "data(\"CEMS\")\n",
    "CEMS_pref = CEMS$preferences"
   ]
  },
  {
   "cell_type": "code",
   "execution_count": 4,
   "id": "7ca43bae",
   "metadata": {},
   "outputs": [
    {
     "data": {
      "text/html": [
       "<div>\n",
       "<style scoped>\n",
       "    .dataframe tbody tr th:only-of-type {\n",
       "        vertical-align: middle;\n",
       "    }\n",
       "\n",
       "    .dataframe tbody tr th {\n",
       "        vertical-align: top;\n",
       "    }\n",
       "\n",
       "    .dataframe thead th {\n",
       "        text-align: right;\n",
       "    }\n",
       "</style>\n",
       "<table border=\"1\" class=\"dataframe\">\n",
       "  <thead>\n",
       "    <tr style=\"text-align: right;\">\n",
       "      <th></th>\n",
       "      <th>student</th>\n",
       "      <th>school1</th>\n",
       "      <th>school2</th>\n",
       "      <th>win1</th>\n",
       "      <th>win2</th>\n",
       "      <th>tied</th>\n",
       "      <th>win1.adj</th>\n",
       "      <th>win2.adj</th>\n",
       "    </tr>\n",
       "  </thead>\n",
       "  <tbody>\n",
       "    <tr>\n",
       "      <th>1</th>\n",
       "      <td>1.0</td>\n",
       "      <td>London</td>\n",
       "      <td>Paris</td>\n",
       "      <td>1.0</td>\n",
       "      <td>0.0</td>\n",
       "      <td>0.0</td>\n",
       "      <td>1.0</td>\n",
       "      <td>0.0</td>\n",
       "    </tr>\n",
       "    <tr>\n",
       "      <th>2</th>\n",
       "      <td>1.0</td>\n",
       "      <td>London</td>\n",
       "      <td>Milano</td>\n",
       "      <td>1.0</td>\n",
       "      <td>0.0</td>\n",
       "      <td>0.0</td>\n",
       "      <td>1.0</td>\n",
       "      <td>0.0</td>\n",
       "    </tr>\n",
       "    <tr>\n",
       "      <th>3</th>\n",
       "      <td>1.0</td>\n",
       "      <td>Paris</td>\n",
       "      <td>Milano</td>\n",
       "      <td>NaN</td>\n",
       "      <td>NaN</td>\n",
       "      <td>NaN</td>\n",
       "      <td>NaN</td>\n",
       "      <td>NaN</td>\n",
       "    </tr>\n",
       "    <tr>\n",
       "      <th>4</th>\n",
       "      <td>1.0</td>\n",
       "      <td>London</td>\n",
       "      <td>St.Gallen</td>\n",
       "      <td>0.0</td>\n",
       "      <td>1.0</td>\n",
       "      <td>0.0</td>\n",
       "      <td>0.0</td>\n",
       "      <td>1.0</td>\n",
       "    </tr>\n",
       "    <tr>\n",
       "      <th>5</th>\n",
       "      <td>1.0</td>\n",
       "      <td>Paris</td>\n",
       "      <td>St.Gallen</td>\n",
       "      <td>0.0</td>\n",
       "      <td>1.0</td>\n",
       "      <td>0.0</td>\n",
       "      <td>0.0</td>\n",
       "      <td>1.0</td>\n",
       "    </tr>\n",
       "  </tbody>\n",
       "</table>\n",
       "</div>"
      ],
      "text/plain": [
       "   student school1    school2  win1  win2  tied  win1.adj  win2.adj\n",
       "1      1.0  London      Paris   1.0   0.0   0.0       1.0       0.0\n",
       "2      1.0  London     Milano   1.0   0.0   0.0       1.0       0.0\n",
       "3      1.0   Paris     Milano   NaN   NaN   NaN       NaN       NaN\n",
       "4      1.0  London  St.Gallen   0.0   1.0   0.0       0.0       1.0\n",
       "5      1.0   Paris  St.Gallen   0.0   1.0   0.0       0.0       1.0"
      ]
     },
     "execution_count": 4,
     "metadata": {},
     "output_type": "execute_result"
    }
   ],
   "source": [
    "r_cems = r['CEMS_pref']\n",
    "with localconverter(default_converter + pandas2ri.converter):\n",
    "    cems_df = rpy2py(r_cems)\n",
    "cems_df.head()"
   ]
  },
  {
   "cell_type": "code",
   "execution_count": 35,
   "id": "47a01e1a",
   "metadata": {},
   "outputs": [
    {
     "name": "stdout",
     "output_type": "stream",
     "text": [
      "           Barcelona  London  Milano  Paris  St.Gallen  Stockholm\n",
      "Barcelona          0      67     132    109        134        172\n",
      "London           217       0     221    186        208        250\n",
      "Milano           104      56       0     59        135        157\n",
      "Paris            157      91     121      0        165        203\n",
      "St.Gallen        144      73     140    119          0        155\n",
      "Stockholm         90      34     100     70         98          0\n"
     ]
    }
   ],
   "source": [
    "# 1) get the full list of schools\n",
    "schools = sorted(pd.unique(cems_df[['school1','school2']].values.ravel()))\n",
    "\n",
    "# 2) init an all-zeros win-count matrix\n",
    "win_matrix_cems = pd.DataFrame(0, index=schools, columns=schools, dtype=int)\n",
    "\n",
    "# 3) drop any rows where win1, win2, or tied is NaN, then keep only non-ties\n",
    "clean = (\n",
    "    cems_df\n",
    "    .dropna(subset=['win1','win2','tied'])  # toss rows with any NaN in these cols\n",
    "    .loc[lambda d: d['tied'] == 0]           # ignore actual ties\n",
    ")\n",
    "\n",
    "# 4) count wins\n",
    "for _, row in clean.iterrows():\n",
    "    i, j = row['school1'], row['school2']\n",
    "    if row['win1'] > row['win2']:\n",
    "        win_matrix_cems.loc[i, j] += 1\n",
    "    elif row['win2'] > row['win1']:\n",
    "        win_matrix_cems.loc[j, i] += 1\n",
    "\n",
    "# 5) result\n",
    "print(win_matrix_cems)"
   ]
  },
  {
   "cell_type": "code",
   "execution_count": 18,
   "id": "53d1e952",
   "metadata": {},
   "outputs": [],
   "source": [
    "def evaluate_metrics(W, n, m, L, eps_values, repetitions=1):\n",
    "    records = []\n",
    "    for eps in eps_values:\n",
    "        metrics = []\n",
    "        model = individualDP(n=n, k=m, L=L, theta_true=None, W=W)\n",
    "        for _ in range(repetitions):\n",
    "            gamma = 8 * 0.25 * L / eps\n",
    "            lam   = 8 * 1    * L / eps\n",
    "            noise = np.random.laplace(loc=0, scale=lam, size=n)\n",
    "            noise_count = np.random.laplace(loc=0, scale=lam/8, size=n)\n",
    "            model.fit(gamma=gamma, noise=noise)\n",
    "            pred = model.get_theta()\n",
    "            pred_vec = model.get_noisy_counts(noise = noise_count)\n",
    "            \n",
    "            model.fit(gamma=gamma, noise=np.zeros(n))\n",
    "            theta_true = model.get_theta()\n",
    "            true_vec = model.get_noisy_counts(noise=np.zeros(n))\n",
    "\n",
    "            metrics.append((\n",
    "                avg_rank_diff(pred, theta_true),\n",
    "                avg_rank_diff(pred_vec, true_vec),\n",
    "            ))\n",
    "        arr = np.array(metrics)\n",
    "        estimation_mean, count_mean = arr.mean(axis=0)\n",
    "        estimation_std,  count_std = arr.std(axis=0)\n",
    "        records.append({\n",
    "            'eps': eps,\n",
    "            'estimation_mean':    estimation_mean,\n",
    "            'estimation_std': estimation_std,\n",
    "            'count_mean': count_mean,\n",
    "            'count_std':count_std,\n",
    "        })\n",
    "    return pd.DataFrame(records).set_index(['eps'])"
   ]
  },
  {
   "cell_type": "code",
   "execution_count": 36,
   "id": "04b2736c",
   "metadata": {},
   "outputs": [
    {
     "name": "stderr",
     "output_type": "stream",
     "text": [
      "/Users/wangyc/Library/Python/3.9/lib/python/site-packages/cvxpy/atoms/affine/reshape.py:68: FutureWarning: \n",
      "    You didn't specify the order of the reshape expression. The default order\n",
      "    used in CVXPY is Fortran ('F') order. This default will change to match NumPy's\n",
      "    default order ('C') in a future version of CVXPY.\n",
      "    To suppress this warning, please specify the order explicitly.\n",
      "    \n",
      "  warnings.warn(reshape_order_warning, FutureWarning)\n",
      "/Users/wangyc/Library/Python/3.9/lib/python/site-packages/cvxpy/problems/problem.py:1504: UserWarning: Solution may be inaccurate. Try another solver, adjusting the solver settings, or solve with verbose=True for more information.\n",
      "  warnings.warn(\n"
     ]
    }
   ],
   "source": [
    "df = evaluate_metrics(n=6, m=303, L=15, eps_values=[0.5, 1, 2, 4, 6, 8, 10], W=win_matrix_cems.values, repetitions=1000)"
   ]
  },
  {
   "cell_type": "code",
   "execution_count": 38,
   "id": "1cb7b1fd",
   "metadata": {},
   "outputs": [
    {
     "data": {
      "image/png": "[encoded data removed]",
      "text/plain": [
       "<Figure size 640x480 with 1 Axes>"
      ]
     },
     "metadata": {},
     "output_type": "display_data"
    }
   ],
   "source": [
    "plt.rcParams['axes.prop_cycle']  = cycler('color', sns.color_palette('colorblind'))\n",
    "plt.rcParams['lines.linewidth']  = 2\n",
    "plt.rcParams.update({\n",
    "    'axes.linewidth': 3,       # thicker axis spines\n",
    "    'axes.labelsize': 18,      # x/y label font size\n",
    "    'xtick.labelsize': 14,     # x-tick label size\n",
    "    'ytick.labelsize': 14,     # y-tick label size\n",
    "    'legend.fontsize': 14,     # legend text size\n",
    "})\n",
    "marker_size = 10\n",
    "\n",
    "# ── 2) grab your data out of the DF ────────────────────────\n",
    "eps_vals    = df.index.values\n",
    "est_mean    = df['estimation_mean'].values\n",
    "est_std     = df['estimation_std'].values\n",
    "count_mean  = df['count_mean'].values\n",
    "count_std   = df['count_std'].values\n",
    "\n",
    "# ── 3) plot the two curves ─────────────────────────────────\n",
    "plt.figure()\n",
    "# estimation‐error curve\n",
    "plt.errorbar(\n",
    "    eps_vals, est_mean, yerr=0,\n",
    "    marker='o',                # circle\n",
    "    markersize=marker_size,\n",
    "    linestyle='-',\n",
    "    capsize=3,\n",
    "    label='Parametric estimation'\n",
    ")\n",
    "\n",
    "# count‐error curve\n",
    "plt.errorbar(\n",
    "    eps_vals, count_mean, yerr=0,\n",
    "    marker='s',                # square\n",
    "    markersize=marker_size,\n",
    "    linestyle='-',\n",
    "    capsize=3,\n",
    "    label='Nonparametric ranking'\n",
    ")\n",
    "\n",
    "# ── 4) labels, ticks, legend ──────────────────────────────\n",
    "plt.xlabel('ε')\n",
    "plt.ylabel('Mean rank difference')\n",
    "plt.xticks(eps_vals)        # ensure only your ε’s appear\n",
    "plt.legend(loc='best')\n",
    "plt.tight_layout()\n",
    "plt.savefig('individual-accuracy-cems.pdf', format='pdf', bbox_inches='tight')\n",
    "plt.show()"
   ]
  },
  {
   "cell_type": "markdown",
   "id": "a50d40e3",
   "metadata": {},
   "source": [
    "## 2. immig"
   ]
  },
  {
   "cell_type": "code",
   "execution_count": 27,
   "id": "456812b0",
   "metadata": {},
   "outputs": [
    {
     "data": {
      "text/plain": [
       "Loading required package: gnm\n",
       "Loading required package: colorspace\n",
       "\n",
       "Attaching package: ‘prefmod’\n",
       "\n",
       "The following object is masked from ‘package:BradleyTerry2’:\n",
       "\n",
       "    baseball\n",
       "\n"
      ]
     },
     "metadata": {},
     "output_type": "display_data"
    }
   ],
   "source": [
    "%%R -o immig\n",
    "library(prefmod)\n",
    "data(\"immig\")"
   ]
  },
  {
   "cell_type": "code",
   "execution_count": 28,
   "id": "61e1a267",
   "metadata": {},
   "outputs": [
    {
     "data": {
      "text/html": [
       "<div>\n",
       "<style scoped>\n",
       "    .dataframe tbody tr th:only-of-type {\n",
       "        vertical-align: middle;\n",
       "    }\n",
       "\n",
       "    .dataframe tbody tr th {\n",
       "        vertical-align: top;\n",
       "    }\n",
       "\n",
       "    .dataframe thead th {\n",
       "        text-align: right;\n",
       "    }\n",
       "</style>\n",
       "<table border=\"1\" class=\"dataframe\">\n",
       "  <thead>\n",
       "    <tr style=\"text-align: right;\">\n",
       "      <th></th>\n",
       "      <th>V12</th>\n",
       "      <th>V13</th>\n",
       "      <th>V23</th>\n",
       "      <th>V14</th>\n",
       "      <th>V24</th>\n",
       "      <th>V34</th>\n",
       "      <th>SEX</th>\n",
       "      <th>AGE</th>\n",
       "      <th>NAT</th>\n",
       "    </tr>\n",
       "  </thead>\n",
       "  <tbody>\n",
       "    <tr>\n",
       "      <th>1</th>\n",
       "      <td>-1.0</td>\n",
       "      <td>0.0</td>\n",
       "      <td>1.0</td>\n",
       "      <td>-1.0</td>\n",
       "      <td>1.0</td>\n",
       "      <td>-1.0</td>\n",
       "      <td>2</td>\n",
       "      <td>21</td>\n",
       "      <td>Austria</td>\n",
       "    </tr>\n",
       "    <tr>\n",
       "      <th>2</th>\n",
       "      <td>1.0</td>\n",
       "      <td>1.0</td>\n",
       "      <td>-1.0</td>\n",
       "      <td>1.0</td>\n",
       "      <td>0.0</td>\n",
       "      <td>1.0</td>\n",
       "      <td>1</td>\n",
       "      <td>26</td>\n",
       "      <td>Austria</td>\n",
       "    </tr>\n",
       "    <tr>\n",
       "      <th>3</th>\n",
       "      <td>1.0</td>\n",
       "      <td>0.0</td>\n",
       "      <td>-1.0</td>\n",
       "      <td>NaN</td>\n",
       "      <td>NaN</td>\n",
       "      <td>1.0</td>\n",
       "      <td>2</td>\n",
       "      <td>22</td>\n",
       "      <td>Austria</td>\n",
       "    </tr>\n",
       "    <tr>\n",
       "      <th>4</th>\n",
       "      <td>1.0</td>\n",
       "      <td>1.0</td>\n",
       "      <td>-1.0</td>\n",
       "      <td>1.0</td>\n",
       "      <td>NaN</td>\n",
       "      <td>1.0</td>\n",
       "      <td>2</td>\n",
       "      <td>21</td>\n",
       "      <td>Austria</td>\n",
       "    </tr>\n",
       "    <tr>\n",
       "      <th>5</th>\n",
       "      <td>NaN</td>\n",
       "      <td>-1.0</td>\n",
       "      <td>NaN</td>\n",
       "      <td>NaN</td>\n",
       "      <td>NaN</td>\n",
       "      <td>1.0</td>\n",
       "      <td>1</td>\n",
       "      <td>22</td>\n",
       "      <td>Slovakia</td>\n",
       "    </tr>\n",
       "  </tbody>\n",
       "</table>\n",
       "</div>"
      ],
      "text/plain": [
       "   V12  V13  V23  V14  V24  V34  SEX  AGE       NAT\n",
       "1 -1.0  0.0  1.0 -1.0  1.0 -1.0    2   21   Austria\n",
       "2  1.0  1.0 -1.0  1.0  0.0  1.0    1   26   Austria\n",
       "3  1.0  0.0 -1.0  NaN  NaN  1.0    2   22   Austria\n",
       "4  1.0  1.0 -1.0  1.0  NaN  1.0    2   21   Austria\n",
       "5  NaN -1.0  NaN  NaN  NaN  1.0    1   22  Slovakia"
      ]
     },
     "execution_count": 28,
     "metadata": {},
     "output_type": "execute_result"
    }
   ],
   "source": [
    "r_immig = r['immig']\n",
    "with localconverter(default_converter + pandas2ri.converter):\n",
    "    immig_df = rpy2py(r_immig)\n",
    "immig_df.head()"
   ]
  },
  {
   "cell_type": "code",
   "execution_count": 29,
   "id": "2ffd048e",
   "metadata": {},
   "outputs": [
    {
     "name": "stdout",
     "output_type": "stream",
     "text": [
      "    1   2   3   4\n",
      "1   0  53  34  48\n",
      "2  12   0  20  31\n",
      "3  38  43   0  50\n",
      "4  15  21  14   0\n"
     ]
    }
   ],
   "source": [
    "# 1) Define your items and init an all‐zero win‐matrix\n",
    "items = [1, 2, 3, 4]\n",
    "win_matrix = pd.DataFrame(0, index=items, columns=items, dtype=int)\n",
    "\n",
    "# 2) Loop through every cell, skipping 0 or NaN\n",
    "for _, row in immig_df.iterrows():\n",
    "    for col in immig_df.columns[:6]:           # col is like \"V12\", \"V13\", …\n",
    "        val = row[col]\n",
    "        if pd.isna(val) or val == 0:\n",
    "            continue\n",
    "\n",
    "        # parse a, b from the column name\n",
    "        a, b = int(col[1]), int(col[2])\n",
    "\n",
    "        # 1.0 means a beat b; -1.0 means b beat a\n",
    "        if val == 1.0:\n",
    "            win_matrix.loc[a, b] += 1\n",
    "        else:  # val == -1.0\n",
    "            win_matrix.loc[b, a] += 1\n",
    "\n",
    "# 3) Inspect your result\n",
    "print(win_matrix)"
   ]
  },
  {
   "cell_type": "code",
   "execution_count": 40,
   "id": "dc17e651",
   "metadata": {},
   "outputs": [
    {
     "name": "stderr",
     "output_type": "stream",
     "text": [
      "/Users/wangyc/Library/Python/3.9/lib/python/site-packages/cvxpy/atoms/affine/reshape.py:68: FutureWarning: \n",
      "    You didn't specify the order of the reshape expression. The default order\n",
      "    used in CVXPY is Fortran ('F') order. This default will change to match NumPy's\n",
      "    default order ('C') in a future version of CVXPY.\n",
      "    To suppress this warning, please specify the order explicitly.\n",
      "    \n",
      "  warnings.warn(reshape_order_warning, FutureWarning)\n",
      "/Users/wangyc/Library/Python/3.9/lib/python/site-packages/cvxpy/problems/problem.py:1504: UserWarning: Solution may be inaccurate. Try another solver, adjusting the solver settings, or solve with verbose=True for more information.\n",
      "  warnings.warn(\n"
     ]
    }
   ],
   "source": [
    "df = evaluate_metrics(n=4, m=98, L=6, eps_values=[0.5, 1, 2, 4, 6, 8, 10], W=win_matrix.values, repetitions=1000)"
   ]
  },
  {
   "cell_type": "code",
   "execution_count": 41,
   "id": "82acb9ee",
   "metadata": {},
   "outputs": [
    {
     "data": {
      "image/png": "[encoded data removed]",
      "text/plain": [
       "<Figure size 640x480 with 1 Axes>"
      ]
     },
     "metadata": {},
     "output_type": "display_data"
    }
   ],
   "source": [
    "plt.rcParams['axes.prop_cycle']  = cycler('color', sns.color_palette('colorblind'))\n",
    "plt.rcParams['lines.linewidth']  = 2\n",
    "plt.rcParams.update({\n",
    "    'axes.linewidth': 3,       # thicker axis spines\n",
    "    'axes.labelsize': 18,      # x/y label font size\n",
    "    'xtick.labelsize': 14,     # x-tick label size\n",
    "    'ytick.labelsize': 14,     # y-tick label size\n",
    "    'legend.fontsize': 14,     # legend text size\n",
    "})\n",
    "marker_size = 10\n",
    "\n",
    "# ── 2) grab your data out of the DF ────────────────────────\n",
    "eps_vals    = df.index.values\n",
    "est_mean    = df['estimation_mean'].values\n",
    "est_std     = df['estimation_std'].values\n",
    "count_mean  = df['count_mean'].values\n",
    "count_std   = df['count_std'].values\n",
    "\n",
    "# ── 3) plot the two curves ─────────────────────────────────\n",
    "plt.figure()\n",
    "# estimation‐error curve\n",
    "plt.errorbar(\n",
    "    eps_vals, est_mean, yerr=0,\n",
    "    marker='o',                # circle\n",
    "    markersize=marker_size,\n",
    "    linestyle='-',\n",
    "    capsize=3,\n",
    "    label='Parametric Estimation'\n",
    ")\n",
    "\n",
    "# count‐error curve\n",
    "plt.errorbar(\n",
    "    eps_vals, count_mean, yerr=0,\n",
    "    marker='s',                # square\n",
    "    markersize=marker_size,\n",
    "    linestyle='-',\n",
    "    capsize=3,\n",
    "    label='Nonparametric Ranking'\n",
    ")\n",
    "\n",
    "# ── 4) labels, ticks, legend ──────────────────────────────\n",
    "plt.xlabel('ε')\n",
    "plt.ylabel('Mean rank difference')\n",
    "plt.xticks(eps_vals)        # ensure only your ε’s appear\n",
    "plt.legend(loc='best')\n",
    "plt.tight_layout()\n",
    "plt.savefig('individual-accuracy-immig.pdf', format='pdf', bbox_inches='tight')\n",
    "plt.show()"
   ]
  }
 ],
 "metadata": {
  "kernelspec": {
   "display_name": "Python 3",
   "language": "python",
   "name": "python3"
  },
  "language_info": {
   "codemirror_mode": {
    "name": "ipython",
    "version": 3
   },
   "file_extension": ".py",
   "mimetype": "text/x-python",
   "name": "python",
   "nbconvert_exporter": "python",
   "pygments_lexer": "ipython3",
   "version": "3.9.6"
  }
 },
 "nbformat": 4,
 "nbformat_minor": 5
}
