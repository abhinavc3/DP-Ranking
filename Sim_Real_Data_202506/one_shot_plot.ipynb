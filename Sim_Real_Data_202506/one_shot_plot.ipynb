{
 "cells": [
  {
   "cell_type": "code",
   "execution_count": 1,
   "id": "b541f2b8",
   "metadata": {},
   "outputs": [],
   "source": [
    "import numpy as np\n",
    "import matplotlib.pyplot as plt\n",
    "import pandas as pd\n",
    "import seaborn as sns\n",
    "from cycler import cycler\n",
    "import os"
   ]
  },
  {
   "cell_type": "code",
   "execution_count": 3,
   "id": "c9a7196b",
   "metadata": {},
   "outputs": [],
   "source": [
    "def make_row_mean(idx, agg_col_name, df):\n",
    "    return (\n",
    "        df\n",
    "        .set_index(idx)\n",
    "        .assign(**{agg_col_name: lambda d: d.mean(axis=1)})\n",
    "        [[agg_col_name]]\n",
    "    )"
   ]
  },
  {
   "cell_type": "code",
   "execution_count": 2,
   "id": "767070fd",
   "metadata": {},
   "outputs": [],
   "source": [
    "idx = ['n', 'p', 'epsilon']"
   ]
  },
  {
   "cell_type": "markdown",
   "id": "dcced6ca",
   "metadata": {},
   "source": [
    "## 1. Varying number of items"
   ]
  },
  {
   "cell_type": "code",
   "execution_count": null,
   "id": "b40a9594",
   "metadata": {},
   "outputs": [],
   "source": [
    "make_row_mean(idx, \"relative_l2_mean\", pd.read_csv(\"L-2-error-priv.csv\"))"
   ]
  }
 ],
 "metadata": {
  "kernelspec": {
   "display_name": "Python 3",
   "language": "python",
   "name": "python3"
  },
  "language_info": {
   "codemirror_mode": {
    "name": "ipython",
    "version": 3
   },
   "file_extension": ".py",
   "mimetype": "text/x-python",
   "name": "python",
   "nbconvert_exporter": "python",
   "pygments_lexer": "ipython3",
   "version": "3.9.6"
  }
 },
 "nbformat": 4,
 "nbformat_minor": 5
}
